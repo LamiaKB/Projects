{
  "nbformat": 4,
  "nbformat_minor": 0,
  "metadata": {
    "colab": {
      "name": "exploration temp",
      "private_outputs": true,
      "provenance": [],
      "authorship_tag": "ABX9TyOQZbdFOH0e/QxzPtU/b93w",
      "include_colab_link": true
    },
    "kernelspec": {
      "name": "python3",
      "display_name": "Python 3"
    },
    "language_info": {
      "name": "python"
    }
  },
  "cells": [
    {
      "cell_type": "markdown",
      "metadata": {
        "id": "view-in-github",
        "colab_type": "text"
      },
      "source": [
        "<a href=\"https://colab.research.google.com/github/LamiaKB/Projects/blob/main/exploration_temp.ipynb\" target=\"_parent\"><img src=\"https://colab.research.google.com/assets/colab-badge.svg\" alt=\"Open In Colab\"/></a>"
      ]
    },
    {
      "cell_type": "markdown",
      "metadata": {
        "id": "Kxn72NqUVcI-"
      },
      "source": [
        "# Communicate Data Findings\n",
        "\n",
        "## About the project \n",
        "\n",
        "   * *This project has a two parts the importance and value of data visualization techniqu in data analysis process , At first , I have to use Panda Libraries to explore selected dataset.*\n",
        "\n",
        "\n",
        "  * In Second part I present some of illustrates relationships between variables. The most important method findind my explortory visals in the first part into explantory cisulaize * \n",
        " \n",
        "\n",
        " ------------------------------------\n",
        "\n",
        "## Investigation Overview\n",
        "\n",
        "The Main reason of this project is to analysis the rate of amount before the software application such as uber enters the market of taxies \n",
        "\n"
      ]
    },
    {
      "cell_type": "markdown",
      "metadata": {
        "id": "7QtQjzNvao26"
      },
      "source": [
        "# **Why this project?**\n",
        "**Data visualization is an important skill that is used in many parts of the data analysis process.**\n",
        "\n",
        "\n",
        "**Exploratory**` data visualization generally occurs during and after the data wrangling process, and is the main method that is used to understand the patterns and relationships in your data. This understanding will help me approach any statistical analyses and will help me build conclusions. `\n",
        "\n",
        "\n",
        "\n",
        "**Explanatory** ` data visualization methods are used after collecting my detecting, and are used to help communicate my results to others. \n",
        "In addition to being a good analyst of visualizations, going through this project will also help me be a good analyst of visualizations that are presented to you by others.`"
      ]
    },
    {
      "cell_type": "markdown",
      "metadata": {
        "id": "RiMFxm-zb4De"
      },
      "source": [
        "\n",
        "# **Yellow taxi NYC ( Jan-2010 ) :::**\n",
        "\n",
        "=========================================\n",
        "\n",
        "### **-- Table of Contents --**\n",
        "<ul>\n",
        "<li><a href=\"#importing\">Data Exploration </a></li>\n",
        "<li><a href=\"#EDA\">Data Wrangling</a></li>\n",
        "<li><a href=\"#Analyzing\">Data Visualization - Exploratory</a></li>\n",
        "<li><a href=\"#Modeling \">Modeling</a></li>\n",
        "</ul>\n",
        "\n"
      ]
    },
    {
      "cell_type": "markdown",
      "metadata": {
        "id": "A0qsWM5Kc5-w"
      },
      "source": [
        "## **- Data Exploration:**"
      ]
    },
    {
      "cell_type": "code",
      "metadata": {
        "id": "pM5TmZ1EcNmn"
      },
      "source": [
        "import pandas as pd\n",
        "from sklearn.linear_model import LogisticRegression,LinearRegression\n",
        "from sklearn.tree import DecisionTreeClassifier\n",
        "import numpy as np\n",
        "import matplotlib as mpl\n",
        "import matplotlib.pyplot as plt\n",
        "import datetime\n",
        "import time\n",
        "import sys\n",
        "import json\n",
        "from sklearn.model_selection import train_test_split\n",
        "import seaborn as sns\n",
        "\n",
        "%matplotlib inline"
      ],
      "execution_count": null,
      "outputs": []
    },
    {
      "cell_type": "code",
      "metadata": {
        "id": "KL40i_C_cUYG"
      },
      "source": [
        "df = pd.read_csv('https://raw.githubusercontent.com/gumdropsteve/datasets/master/nyc_transport/taxi/yellow_tripdata_2010-01.csv')\n"
      ],
      "execution_count": null,
      "outputs": []
    },
    {
      "cell_type": "code",
      "metadata": {
        "id": "9gfwXP2SczQz"
      },
      "source": [
        "#plotting\n",
        "df.hist(figsize=(15, 15))\n",
        "\n",
        "plt.show();"
      ],
      "execution_count": null,
      "outputs": []
    },
    {
      "cell_type": "markdown",
      "metadata": {
        "id": "Gd19__VvdEzf"
      },
      "source": [
        "## **- Data Wrangling :"
      ]
    },
    {
      "cell_type": "code",
      "metadata": {
        "id": "mcD0PUE5dAAV"
      },
      "source": [
        "df.info()"
      ],
      "execution_count": null,
      "outputs": []
    },
    {
      "cell_type": "code",
      "metadata": {
        "id": "IMpT2d_rc1SZ"
      },
      "source": [
        "df.head(2)"
      ],
      "execution_count": null,
      "outputs": []
    },
    {
      "cell_type": "code",
      "metadata": {
        "id": "MRsSW_G3dPBB"
      },
      "source": [
        "df.tail(2)"
      ],
      "execution_count": null,
      "outputs": []
    },
    {
      "cell_type": "code",
      "metadata": {
        "id": "2OKTxjYpdRQ0"
      },
      "source": [
        "df.isnull().sum()"
      ],
      "execution_count": null,
      "outputs": []
    },
    {
      "cell_type": "code",
      "metadata": {
        "id": "WZqyoUcAdTff"
      },
      "source": [
        "df.dropna(inplace=True)"
      ],
      "execution_count": null,
      "outputs": []
    },
    {
      "cell_type": "code",
      "metadata": {
        "id": "7jnHEeQIdVpN"
      },
      "source": [
        "df.isnull().sum()"
      ],
      "execution_count": null,
      "outputs": []
    },
    {
      "cell_type": "code",
      "metadata": {
        "id": "WCH2440udXO1"
      },
      "source": [
        "df.passenger_count.value_counts()"
      ],
      "execution_count": null,
      "outputs": []
    },
    {
      "cell_type": "code",
      "metadata": {
        "id": "Su02RnuIdZOF"
      },
      "source": [
        "len(df)"
      ],
      "execution_count": null,
      "outputs": []
    },
    {
      "cell_type": "code",
      "metadata": {
        "id": "_ksfPGusdapn"
      },
      "source": [
        "np.sum(df.isna())"
      ],
      "execution_count": null,
      "outputs": []
    },
    {
      "cell_type": "code",
      "metadata": {
        "id": "2NbTdwbydcMd"
      },
      "source": [
        "df.corr()"
      ],
      "execution_count": null,
      "outputs": []
    },
    {
      "cell_type": "code",
      "metadata": {
        "id": "aOChGNTYdeBx"
      },
      "source": [
        "df.passenger_count.unique()"
      ],
      "execution_count": null,
      "outputs": []
    },
    {
      "cell_type": "code",
      "metadata": {
        "id": "W56vNhF7dh7B"
      },
      "source": [
        "df.tail(10)"
      ],
      "execution_count": null,
      "outputs": []
    },
    {
      "cell_type": "code",
      "metadata": {
        "id": "ChaGuNQidmWU"
      },
      "source": [
        "#plotting\n",
        "sns.countplot(x = 'passenger_count', data = df);"
      ],
      "execution_count": null,
      "outputs": []
    },
    {
      "cell_type": "code",
      "metadata": {
        "id": "tS3MDZavdpCV"
      },
      "source": [
        "df['pickup_datetime'] = df['pickup_datetime'].map(pd.to_datetime)"
      ],
      "execution_count": null,
      "outputs": []
    },
    {
      "cell_type": "code",
      "metadata": {
        "id": "Wu-XTGlIdwOQ"
      },
      "source": [
        "df['year'] = df['pickup_datetime'].dt.year"
      ],
      "execution_count": null,
      "outputs": []
    },
    {
      "cell_type": "code",
      "metadata": {
        "id": "AwsC-oVieJAi"
      },
      "source": [
        "df['month'] = df['pickup_datetime'].dt.month"
      ],
      "execution_count": null,
      "outputs": []
    },
    {
      "cell_type": "code",
      "metadata": {
        "id": "au17HZdJeK-s"
      },
      "source": [
        "df['day'] = df['pickup_datetime'].dt.day"
      ],
      "execution_count": null,
      "outputs": []
    },
    {
      "cell_type": "code",
      "metadata": {
        "id": "mYFg1sS5eLPf"
      },
      "source": [
        "df['hour'] = df['pickup_datetime'].dt.hour"
      ],
      "execution_count": null,
      "outputs": []
    },
    {
      "cell_type": "code",
      "metadata": {
        "id": "Y-0_p8MZeLc_"
      },
      "source": [
        "df['weekday']=df['pickup_datetime'].dt.day_name()"
      ],
      "execution_count": null,
      "outputs": []
    },
    {
      "cell_type": "code",
      "metadata": {
        "id": "vD3aQTjneVLn"
      },
      "source": [
        "df.head(5)"
      ],
      "execution_count": null,
      "outputs": []
    },
    {
      "cell_type": "code",
      "metadata": {
        "id": "2-8I5nxceakB"
      },
      "source": [
        "df.tail(1)"
      ],
      "execution_count": null,
      "outputs": []
    },
    {
      "cell_type": "code",
      "metadata": {
        "id": "Pu-A8RKgefr7"
      },
      "source": [
        "#plotting\n",
        "sns.boxplot(x = df['fare_amount']);"
      ],
      "execution_count": null,
      "outputs": []
    },
    {
      "cell_type": "code",
      "metadata": {
        "id": "5LJQoaVCfYY7"
      },
      "source": [
        "#plotting\n",
        "sns.boxplot(x= df['tip_amount']);"
      ],
      "execution_count": null,
      "outputs": []
    },
    {
      "cell_type": "code",
      "metadata": {
        "id": "UKsOVFjRfgjY"
      },
      "source": [
        "#plotting\n",
        "sns.boxplot(x=df['tolls_amount']);"
      ],
      "execution_count": null,
      "outputs": []
    },
    {
      "cell_type": "code",
      "metadata": {
        "id": "Ou0Q9A6yfn1B"
      },
      "source": [
        "#plotting\n",
        "sns.boxplot( x =df['mta_tax'])\n"
      ],
      "execution_count": null,
      "outputs": []
    },
    {
      "cell_type": "code",
      "metadata": {
        "id": "KVur82l4frxQ"
      },
      "source": [
        "sns.boxplot( x =df['total_amount']);\n"
      ],
      "execution_count": null,
      "outputs": []
    },
    {
      "cell_type": "markdown",
      "metadata": {
        "id": "4rZ37ASKf1rj"
      },
      "source": [
        "---------------------------------------------------------"
      ]
    },
    {
      "cell_type": "markdown",
      "metadata": {
        "id": "4SzU_xbGf32l"
      },
      "source": [
        "\n",
        "\n",
        "\n",
        "## Data Visualization - Exploratory :\n",
        "```\n",
        "\n"
      ]
    },
    {
      "cell_type": "code",
      "metadata": {
        "id": "SRy_FoyNfzYm"
      },
      "source": [
        "week_day=pd.DataFrame(df['weekday'].value_counts())\n",
        "week_day"
      ],
      "execution_count": null,
      "outputs": []
    },
    {
      "cell_type": "code",
      "metadata": {
        "id": "VIRHHDOUgJpY"
      },
      "source": [
        "week_day['day_type']=['wd','we','wd','wd','wd','we','wd']\n",
        "week_day"
      ],
      "execution_count": null,
      "outputs": []
    },
    {
      "cell_type": "code",
      "metadata": {
        "id": "37plktBogNPy"
      },
      "source": [
        "pie=week_day.groupby('day_type').sum()\n",
        "pie.iloc[0,0]=pie.iloc[0,0]/5\n",
        "pie.iloc[1,0]=pie.iloc[1,0]/2\n",
        "pie"
      ],
      "execution_count": null,
      "outputs": []
    },
    {
      "cell_type": "code",
      "metadata": {
        "id": "V9PxIzevgReB"
      },
      "source": [
        "#plotting\n",
        "explode=[0,0.05]\n",
        "colors=['grey','pink']\n",
        "labels=['Weekday','Weekend']\n",
        "pie.plot.pie(autopct = '%1.1f%%',shadow=True,subplots=True,\n",
        "        colors=colors,explode=explode)\n",
        "plt.legend(labels=labels)\n",
        "plt.show()"
      ],
      "execution_count": null,
      "outputs": []
    },
    {
      "cell_type": "code",
      "metadata": {
        "id": "DqX5dryZgUGk"
      },
      "source": [
        "#plotting\n",
        "fig = plt.figure(figsize = (10,12))\n",
        "\n",
        "plt.subplot(3,1,2)\n",
        "ax2 = sns.countplot(df.weekday)\n",
        "plt.tick_params(labelsize=12)\n",
        "plt.xlabel('Days of the week')\n",
        "sns.countplot(x ='weekday', data = df, palette ='coolwarm')\n",
        "\n",
        "plt.show()"
      ],
      "execution_count": null,
      "outputs": []
    },
    {
      "cell_type": "code",
      "metadata": {
        "id": "M7oXysc0-FeE"
      },
      "source": [
        "#plotting"
      ],
      "execution_count": null,
      "outputs": []
    },
    {
      "cell_type": "code",
      "metadata": {
        "id": "zzGQBqkPgWZr"
      },
      "source": [
        "fig = plt.figure(figsize = (10,12))\n",
        "\n",
        "plt.subplot(3,1,1) \n",
        "ax1 = sns.countplot(df.hour, order = range(24))\n",
        "plt.tick_params(labelsize=12)\n",
        "plt.title('The total Trips of NYC Taxi in Janeuary - 2010 ', fontsize=15, color='black')\n",
        "plt.xlabel('hour', fontsize=12)\n",
        "\n",
        "plt.show()"
      ],
      "execution_count": null,
      "outputs": []
    },
    {
      "cell_type": "code",
      "metadata": {
        "id": "6nKrn2WL-aPx"
      },
      "source": [
        "fig = plt.figure(figsize = (15,16))\n",
        "#plotting\n",
        "plt.subplot(3,1,1) \n",
        "ax1 = sns.countplot(df.hour, order = range(24))\n",
        "plt.tick_params(labelsize=12)\n",
        "plt.title('Total the Number of Trips', fontsize=17, color='navy')\n",
        "plt.xlabel('hour', fontsize=13);"
      ],
      "execution_count": null,
      "outputs": []
    },
    {
      "cell_type": "code",
      "metadata": {
        "id": "_NeqoEMkgcAS"
      },
      "source": [
        "sns.countplot(x = 'trip_distance', data = df); #plotting"
      ],
      "execution_count": null,
      "outputs": []
    },
    {
      "cell_type": "code",
      "metadata": {
        "id": "UUctY8jZ8N4U"
      },
      "source": [
        "sns.distplot(df.trip_distance.dropna());#plotting"
      ],
      "execution_count": null,
      "outputs": []
    },
    {
      "cell_type": "code",
      "metadata": {
        "id": "-DgvVkhe_B36"
      },
      "source": [
        "sns.distplot(df.fare_amount.dropna());#plotting"
      ],
      "execution_count": null,
      "outputs": []
    },
    {
      "cell_type": "code",
      "metadata": {
        "id": "CVU8-74mP8zI"
      },
      "source": [
        "ax = sns.violinplot(x=\"weekday\", y=\"total_amount\", data=df)#plotting"
      ],
      "execution_count": null,
      "outputs": []
    },
    {
      "cell_type": "code",
      "metadata": {
        "id": "czyzM1i3_Lua"
      },
      "source": [
        "sns.distplot(df.passenger_count.dropna());#plotting"
      ],
      "execution_count": null,
      "outputs": []
    },
    {
      "cell_type": "code",
      "metadata": {
        "id": "tD2ZMWj1ALAa"
      },
      "source": [
        "passenger_count_type = df.passenger_count.value_counts().index\n",
        "base=sns.color_palette()[0]\n",
        "sns.countplot(data = df ,y='passenger_count',color=base,order=passenger_count_type);#plotting"
      ],
      "execution_count": null,
      "outputs": []
    },
    {
      "cell_type": "code",
      "metadata": {
        "id": "CeNejHQgLrmO"
      },
      "source": [
        "sns.lmplot(x=\"total_amount\", y=\"fare_amount\", data=df,  x_jitter=.03 ,\n",
        "           x_estimator=np.mean , y_jitter=.03 , hue=\"weekday\");#plotting"
      ],
      "execution_count": null,
      "outputs": []
    },
    {
      "cell_type": "code",
      "metadata": {
        "id": "uxVu25hGggnd"
      },
      "source": [
        "fig, ax = plt.subplots(1, 2, figsize = (15, 5))\n",
        "df[\"passenger_count\"].value_counts().plot.bar(color = \"y\", ax = ax[0])\n",
        "ax[0].set_title(\"Statistics of the Number of passengers in NYC Taxi Trips\")\n",
        "ax[0].set_ylabel(\"Total\")\n",
        "sns.countplot(\"payment_type\", hue = \"payment_type\", data = df, ax = ax[1] )\n",
        "ax[1].set_title(\"Statistics of payment types used in NYC Taxi Trips\")\n",
        "plt.show();#plotting"
      ],
      "execution_count": null,
      "outputs": []
    },
    {
      "cell_type": "markdown",
      "metadata": {
        "id": "_UbVPIjSDuMF"
      },
      "source": [
        "The chart shows that a singler passanger is always cash and pay cash\n"
      ]
    },
    {
      "cell_type": "code",
      "metadata": {
        "id": "Nb7PMQXD6x6w"
      },
      "source": [
        "\n",
        "#plotting  \n",
        "\n",
        "g = sns.FacetGrid(data=df, hue='weekday', height=8, aspect=1.5, palette='icefire_r')\n",
        "g = g.map(sns.regplot,'tip_amount','total_amount', x_jitter=6, y_jitter=6, truncate=True)\n",
        "g.add_legend()\n",
        "plt.xlabel('Total Amount')\n",
        "plt.ylabel('Fare Amount')\n",
        "plt.title('The relationships  between days and the tip amount ');"
      ],
      "execution_count": null,
      "outputs": []
    },
    {
      "cell_type": "code",
      "metadata": {
        "id": "j_qlt8vAIVI-"
      },
      "source": [
        "#plotting\n",
        "variables = [\"fare_amount\", \"trip_distance\", \"weekday\"]\n",
        "g = sns.PairGrid(df, hue=\"weekday\", vars=variables)\n",
        "g.map_diag(sns.histplot, hue=None, color=\".3\")\n",
        "g.map_offdiag(sns.scatterplot)\n",
        "g.add_legend()"
      ],
      "execution_count": null,
      "outputs": []
    },
    {
      "cell_type": "code",
      "metadata": {
        "id": "sgoLhlF7C9nG"
      },
      "source": [
        "g = sns.PairGrid(data = df, vars = ['fare_amount',\n",
        "'passenger_count',\n",
        "'tip_amount',\n",
        "'pickup_datetime',\n",
        "'day',\n",
        "'hour',\n",
        "'pickup_latitude',\n",
        "'pickup_longitude'])\n",
        "g.map_diag(plt.hist)\n",
        "g.map_offdiag(plt.scatter,s=40);#plotting"
      ],
      "execution_count": null,
      "outputs": []
    },
    {
      "cell_type": "markdown",
      "metadata": {
        "id": "fTDLTYO7DdEe"
      },
      "source": [
        "\n",
        "All scatter plot is diffrent from another but intensity of the rise is different between the variable."
      ]
    },
    {
      "cell_type": "code",
      "metadata": {
        "id": "qDJ66BJOhB3P"
      },
      "source": [
        "#alter the days and the huors\n",
        "df.loc[:, 'hour'] = df['pickup_datetime'].dt.hour\n",
        "df.loc[:, 'weekday'] = df['pickup_datetime'].dt.dayofweek"
      ],
      "execution_count": null,
      "outputs": []
    },
    {
      "cell_type": "code",
      "metadata": {
        "id": "Zyb5b_S4hNHw"
      },
      "source": [
        "#plotting\n",
        "\n",
        "sns.boxplot(x = df['weekday'], y = np.log(df['trip_distance']))\n",
        "plt.ylabel('log(trip_distance)')\n",
        "plt.show()"
      ],
      "execution_count": null,
      "outputs": []
    },
    {
      "cell_type": "markdown",
      "metadata": {
        "id": "KlqfYgKDhBTK"
      },
      "source": [
        ""
      ]
    },
    {
      "cell_type": "code",
      "metadata": {
        "id": "ZK3D9JKdK0yf"
      },
      "source": [
        "\n",
        "#plotting\n",
        "plt.figure(figsize=(15,6))\n",
        "base_color = sns.color_palette()[1]\n",
        "sns.regplot(data=df, x='passenger_count', y='tip_amount',color=base_color,  x_jitter=0.1, y_jitter=0.1)\n",
        "plt.ylim(0,1)\n",
        "plt.xlabel('passenger numbers')\n",
        "plt.ylabel('tip Amount')\n",
        "plt.title('Relationship between tip Amount & passenger numbers', fontsize=20);"
      ],
      "execution_count": null,
      "outputs": []
    },
    {
      "cell_type": "markdown",
      "metadata": {
        "id": "2I6uJBcTgqKN"
      },
      "source": [
        "# Modeling :"
      ]
    },
    {
      "cell_type": "markdown",
      "metadata": {
        "id": "y36O5mW3gvo6"
      },
      "source": [
        "Linear Relationship: The relationship between the independent and dependent variables is linear.\n"
      ]
    },
    {
      "cell_type": "code",
      "metadata": {
        "id": "oXM1m2dmgmhh"
      },
      "source": [
        "# Import the train_test_split function\n",
        "x_train, y_train, x_test, y_test = train_test_split(X, y, test_size = 0.25, random_state = 42)\n"
      ],
      "execution_count": null,
      "outputs": []
    },
    {
      "cell_type": "code",
      "metadata": {
        "id": "TU-vatU9g5k8"
      },
      "source": [
        "from sklearn.linear_model import LinearRegression\n",
        "from sklearn.model_selection import train_test_split\n",
        "\n",
        "#  Instantiate model object\n",
        "lr = LinearRegression()\n",
        "\n",
        "\n",
        "#Features and targets \n",
        "X = df[['pickup_longitude', 'pickup_latitude', 'rate_code', 'store_and_fwd_flag', 'dropoff_longitude', 'dropoff_latitude', 'passenger_count', 'year', 'month', 'day', 'hour', 'surcharge']]\n",
        "y = df.fare_amount\n",
        "\n",
        "# Fit to training data\n",
        "lr.fit(X,y)\n",
        "print(lr)\n",
        "\n",
        "\n",
        "# Predict\n",
        "# y_pred_lr = lr.predict(X)\n",
        "predictions=lr.predict(y_train)"
      ],
      "execution_count": null,
      "outputs": []
    },
    {
      "cell_type": "code",
      "metadata": {
        "id": "VvQLdJcjgyy0"
      },
      "source": [
        "df_lr = pd.DataFrame({'Features': y_test, 'Target': predictions})\n",
        "df_lr.head(10)"
      ],
      "execution_count": null,
      "outputs": []
    },
    {
      "cell_type": "code",
      "metadata": {
        "id": "FQ1mW6HXhAmP"
      },
      "source": [
        "dfx = df_lr.head(10)\n",
        "dfx.plot(kind='bar',figsize=(15,8), color=('lightpink','gray') )\n",
        "plt.grid(which='major', linestyle=':', linewidth='0.5')\n",
        "plt.xlabel(\"Targets\", size=16, labelpad=8, color='Black')\n",
        "plt.ylabel(\"Features\", size=16, labelpad=8, color='black')\n",
        "plt.title('Bar charts that shows the relationship between the features and our target predictions', fontsize=15, color='black', weight='bold')\n",
        "\n",
        "plt.grid(which='minor', linestyle=':', linewidth='0.5')\n",
        "plt.show()"
      ],
      "execution_count": null,
      "outputs": []
    },
    {
      "cell_type": "markdown",
      "metadata": {
        "id": "u2tuWFLzhFVL"
      },
      "source": [
        "## 2. Decision Tree Model test"
      ]
    },
    {
      "cell_type": "code",
      "metadata": {
        "id": "3edgNywHhCg3"
      },
      "source": [
        "from sklearn.tree import DecisionTreeRegressor\n",
        "from sklearn.model_selection import train_test_split"
      ],
      "execution_count": null,
      "outputs": []
    },
    {
      "cell_type": "code",
      "metadata": {
        "id": "6hag0h33hJGX"
      },
      "source": [
        "# Import the train_test_split function\n",
        "x_train, y_train, x_test, y_test = train_test_split(X, y, test_size = 0.25, random_state = 42)"
      ],
      "execution_count": null,
      "outputs": []
    },
    {
      "cell_type": "code",
      "metadata": {
        "id": "7exjTdeMhKYN"
      },
      "source": [
        "#Features and targets \n",
        "X = df[['pickup_longitude', 'pickup_latitude', 'rate_code', 'store_and_fwd_flag', 'dropoff_longitude', 'dropoff_latitude', 'passenger_count', 'year', 'month', 'day', 'hour', 'surcharge']]\n",
        "y = df.fare_amount"
      ],
      "execution_count": null,
      "outputs": []
    },
    {
      "cell_type": "code",
      "metadata": {
        "id": "agnwwrivhMxQ"
      },
      "source": [
        "# Specify Model\n",
        "taxi_model = DecisionTreeRegressor()\n",
        "# Fit Model\n",
        "taxi_model.fit(X, y)"
      ],
      "execution_count": null,
      "outputs": []
    },
    {
      "cell_type": "code",
      "metadata": {
        "id": "--vLEgCbhPHX"
      },
      "source": [
        "print(\"First in-sample predictions:\", taxi_model.predict(X.head()))\n",
        "print(\"Actual target values for those homes:\", y.head().tolist())"
      ],
      "execution_count": null,
      "outputs": []
    },
    {
      "cell_type": "code",
      "metadata": {
        "id": "mP3ZeY6thRP7"
      },
      "source": [
        "from sklearn.model_selection import train_test_split\n",
        "train_X, val_X, train_y, val_y = train_test_split(X, y, random_state=1)"
      ],
      "execution_count": null,
      "outputs": []
    },
    {
      "cell_type": "code",
      "metadata": {
        "id": "4aaTyzD2hU5-"
      },
      "source": [
        "# Predict with all validation observations\n",
        "\n",
        "val_predictions = taxi_model.predict(val_X)\n"
      ],
      "execution_count": null,
      "outputs": []
    },
    {
      "cell_type": "code",
      "metadata": {
        "id": "1xWblc5shVQ5"
      },
      "source": [
        "# Specify the model\n",
        "taxi_model = DecisionTreeRegressor(random_state =1)\n",
        "\n",
        "# Fit taxi_model with the training data.\n",
        "taxi_model.fit(train_X , train_y )\n",
        "\n",
        "print(val_predictions)"
      ],
      "execution_count": null,
      "outputs": []
    },
    {
      "cell_type": "code",
      "metadata": {
        "id": "6o2ldx3vhWvA"
      },
      "source": [
        "from sklearn.metrics import mean_absolute_error\n",
        "val_mae = mean_absolute_error(val_predictions , val_y)\n",
        "\n",
        "#  see the validation_mae\n",
        "\n",
        "\n",
        "print(\"Validation MAE: {:}\".format(val_mae))"
      ],
      "execution_count": null,
      "outputs": []
    },
    {
      "cell_type": "code",
      "metadata": {
        "id": "Szntm9BAhYpV"
      },
      "source": [
        "from sklearn import metrics\n",
        "print('\\nDecision Tree Regression Performance Metrics')\n",
        "print('R^2=',metrics.explained_variance_score(y_test,val_predictions))\n",
        "print('MAE:',metrics.mean_absolute_error(y_test,val_predictions))\n",
        "print('MSE:',metrics.mean_squared_error(y_test,val_predictions))\n",
        "print('RMSE:',np.sqrt(metrics.mean_squared_error(y_test,val_predictions)))"
      ],
      "execution_count": null,
      "outputs": []
    },
    {
      "cell_type": "code",
      "metadata": {
        "id": "yJ6-s9Ahhbpy"
      },
      "source": [
        "df_dt = pd.DataFrame({'Features': y_test, 'Target': val_predictions})\n",
        "df_dt.head(10)"
      ],
      "execution_count": null,
      "outputs": []
    },
    {
      "cell_type": "code",
      "metadata": {
        "id": "Z9tWlQwbhg2n"
      },
      "source": [
        "dfy = df_dt.head(10)\n",
        "dfy.plot(kind='bar',figsize=(15,8), color=('lightpink','gray') )\n",
        "plt.grid(which='major', linestyle=':', linewidth='0.5')\n",
        "plt.xlabel(\"Targets\", size=16, labelpad=8, color='Black')\n",
        "plt.ylabel(\"Features\", size=16, labelpad=8, color='black')\n",
        "plt.title('Bar charts that shows the relationship between the features and our target predictions', fontsize=15, color='black', weight='bold')\n",
        "\n",
        "plt.grid(which='minor', linestyle=':', linewidth='0.5')\n",
        "plt.show()"
      ],
      "execution_count": null,
      "outputs": []
    },
    {
      "cell_type": "code",
      "metadata": {
        "id": "8YAOtlLCAwqQ"
      },
      "source": [
        "#store clean data into a csv file\n",
        "df.to_csv('NYC2010.csv', encoding = 'utf-8', index=False)"
      ],
      "execution_count": null,
      "outputs": []
    },
    {
      "cell_type": "code",
      "metadata": {
        "id": "D2ZZAYK8QgxP"
      },
      "source": [
        ""
      ],
      "execution_count": null,
      "outputs": []
    }
  ]
}